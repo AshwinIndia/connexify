{
 "cells": [
  {
   "cell_type": "code",
   "execution_count": null,
   "metadata": {},
   "outputs": [],
   "source": [
    "import pandas as pd\n",
    "from sklearn.model_selection import train_test_split\n",
    "[10]\n",
    "df = pd.read_csv('coords.csv')\n",
    "[11]\n",
    "df.head()\n",
    "\n",
    "[12]\n",
    "df.tail()\n",
    "\n",
    "[13]\n",
    "df[df['class']=='from:']\n",
    "\n",
    "[41]\n",
    "X = df.drop('class', axis=1) # features\n",
    "y = df['class'] # target value"
   ]
  }
 ],
 "metadata": {
  "language_info": {
   "name": "python"
  },
  "orig_nbformat": 4
 },
 "nbformat": 4,
 "nbformat_minor": 2
}
